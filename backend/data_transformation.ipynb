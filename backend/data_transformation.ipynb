{
 "cells": [
  {
   "cell_type": "markdown",
   "id": "b9fd5a10",
   "metadata": {},
   "source": [
    "# **Data Transformation**\n",
    "\n",
    "*This is where we do data wrangling and EDA*"
   ]
  },
  {
   "cell_type": "markdown",
   "id": "74d2ee82",
   "metadata": {},
   "source": [
    "## **1. Alcolhol Consumption**"
   ]
  },
  {
   "cell_type": "code",
   "execution_count": null,
   "id": "da1bda8c",
   "metadata": {},
   "outputs": [],
   "source": []
  }
 ],
 "metadata": {
  "kernelspec": {
   "display_name": "base",
   "language": "python",
   "name": "python3"
  },
  "language_info": {
   "name": "python",
   "version": "3.12.3"
  }
 },
 "nbformat": 4,
 "nbformat_minor": 5
}
